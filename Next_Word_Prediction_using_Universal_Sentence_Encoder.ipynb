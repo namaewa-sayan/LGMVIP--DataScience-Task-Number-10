{
  "cells": [
    {
      "cell_type": "code",
      "execution_count": null,
      "metadata": {
        "colab": {
          "base_uri": "https://localhost:8080/"
        },
        "id": "qj-H_oca3bNa",
        "outputId": "4483bca6-15fb-48bc-ad72-017d971f257f"
      },
      "outputs": [],
      "source": [
        "# This cell will prompt an external url to accept permissions for Colab to access Google Drive\n",
        "\n",
        "from google.colab import drive\n",
        "drive.mount(\"/gdrive\")\n",
        "\n",
        "%ls"
      ]
    },
    {
      "cell_type": "markdown",
      "metadata": {
        "id": "t_qUksc3r3KX"
      },
      "source": [
        "# **Import ***"
      ]
    },
    {
      "cell_type": "code",
      "execution_count": null,
      "metadata": {
        "id": "4d9_NB3vpwG8"
      },
      "outputs": [],
      "source": [
        "# Getting all required libraries\n",
        "\n",
        "import os\n",
        "import re\n",
        "import gdown\n",
        "import numpy\n",
        "import string\n",
        "import numpy as np\n",
        "import pandas as pd\n",
        "import seaborn as sns\n",
        "import tensorflow as tf\n",
        "from absl import logging\n",
        "import tensorflow_hub as hub\n",
        "from tensorflow import keras\n",
        "import matplotlib.pyplot as plt\n",
        "from keras.models import Sequential\n",
        "import tensorflow.keras.backend as K\n",
        "from keras.layers.recurrent import LSTM\n",
        "from keras.layers import Dense, Activation\n",
        "from keras.callbacks import LambdaCallback\n",
        "from keras.utils.data_utils import get_file\n",
        "from keras.layers.embeddings import Embedding\n",
        "from sklearn.model_selection import train_test_split"
      ]
    },
    {
      "cell_type": "markdown",
      "metadata": {
        "id": "CHNTF6AHsQUL"
      },
      "source": [
        "## **Data preparation - _Generating Corpus_**"
      ]
    },
    {
      "cell_type": "code",
      "execution_count": null,
      "metadata": {
        "colab": {
          "base_uri": "https://localhost:8080/"
        },
        "id": "fb2U0kS38MRf",
        "outputId": "190eabff-3a0b-4273-fed7-2f03de19baf9"
      },
      "outputs": [
        {
          "name": "stderr",
          "output_type": "stream",
          "text": [
            "Downloading...\n",
            "From:  https://drive.google.com/uc?id=1YTBR7FiXssaKXHhOZbUbwoWw6jzQxxKW\n",
            "To: /content/corpus.txt\n",
            "7.55MB [00:00, 171MB/s]\n"
          ]
        }
      ],
      "source": [
        "# Download data from Google drive\n",
        "\n",
        "'''\n",
        "\n",
        "ORIGINAL DATASET URL:\n",
        "    https://raw.githubusercontent.com/maxim5/stanford-tensorflow-tutorials/master/data/arxiv_abstracts.txt\n",
        "\n",
        "'''\n",
        "\n",
        "url = ' https://drive.google.com/uc?id=1YTBR7FiXssaKXHhOZbUbwoWw6jzQxxKW'\n",
        "output = 'corpus.txt'\n",
        "gdown.download(url, output, quiet=False)\n",
        "\n",
        "# sentence_length = 40\n",
        "\n",
        "# Read local file from directory\n",
        "with open('corpus.txt') as subject:\n",
        "  cache = subject.readlines()\n",
        "translator = str.maketrans('', '', string.punctuation) # Remove punctuation\n",
        "lines = [doc.lower().translate(translator) for doc in cache] # Switch to lower case"
      ]
    },
    {
      "cell_type": "code",
      "execution_count": null,
      "metadata": {
        "id": "yKMvgmMBEF7o"
      },
      "outputs": [],
      "source": [
        "# PREVIEW OUTPUT ::\n",
        "\n",
        "# print(lines[0][:100])\n",
        "# len(lines)"
      ]
    },
    {
      "cell_type": "code",
      "execution_count": null,
      "metadata": {
        "id": "AKFp-u8951-g"
      },
      "outputs": [],
      "source": [
        "# Generate an list of single/independent words\n",
        "\n",
        "vocabulary = list(set(' '.join(lines).replace('\\n','').split(' ')))\n",
        "primary_store = {}\n",
        "for strings, texts in enumerate(vocabulary):\n",
        "  primary_store[texts] = strings"
      ]
    },
    {
      "cell_type": "code",
      "execution_count": null,
      "metadata": {
        "id": "s7pOLvIhEZZE"
      },
      "outputs": [],
      "source": [
        "# PREVIEW OUTPUT ::\n",
        "\n",
        "# print(vocabulary[:50])\n",
        "# len(vocabulary)"
      ]
    },
    {
      "cell_type": "code",
      "execution_count": null,
      "metadata": {
        "id": "18Aw7bxIHLrW"
      },
      "outputs": [],
      "source": [
        "# Splitting data into Train sets and test sets\n",
        "\n",
        "X = [] \n",
        "y = []\n",
        "\n",
        "for c in lines:\n",
        "  xxxx = c.replace('\\n','').split(' ')\n",
        "  X.append(' '.join(xxxx[:-1])) # X from the corpus\n",
        "\n",
        "  yyyy = [0 for i in range(len(vocabulary))] # Generate Y from the Vocabulary\n",
        "  # yyyy[primary_store[xxxx[-1]]] = 1\n",
        "  yyyy[primary_store[xxxx[-1]]] = 1\n",
        "  y.append(yyyy)\n",
        "\n",
        "X_train, X_test, y_train, y_test = train_test_split(X, y, test_size=0.25, random_state=42)\n",
        "y_test = numpy.array(y_test)\n",
        "y_train = numpy.array(y_train)"
      ]
    },
    {
      "cell_type": "code",
      "execution_count": null,
      "metadata": {
        "id": "KVzeMJVLK-L3"
      },
      "outputs": [],
      "source": [
        "# PREVIEW OUTPUT ::\n",
        "\n",
        "# print(X_train[:10])\n",
        "# print(y_train[:10])\n",
        "# print(X_test[:10])\n",
        "# print(y_test[:10])"
      ]
    },
    {
      "cell_type": "markdown",
      "metadata": {
        "id": "E-ZoLdTpMBtg"
      },
      "source": [
        "## **Embeddings!**"
      ]
    },
    {
      "cell_type": "code",
      "execution_count": null,
      "metadata": {
        "id": "PLwEZ5NzMA20"
      },
      "outputs": [],
      "source": [
        "# Import the Universal Sentence Encoder's TF Hub module (Here we're making use of version 4)\n",
        "# This will take a while but won't be long :)\n",
        "\n",
        "module_url = \"https://tfhub.dev/google/universal-sentence-encoder/4\"  \n",
        "appreciate = hub.load(module_url)\n",
        "\n",
        "# Making it easier - Function for embedding\n",
        "def embed(goodness):\n",
        "  return appreciate(goodness)\n"
      ]
    },
    {
      "cell_type": "code",
      "execution_count": null,
      "metadata": {
        "id": "1MVzWpcONq7p"
      },
      "outputs": [],
      "source": [
        "# REVIEW OUTPUT ::\n",
        "\n",
        "# appreciate.variables"
      ]
    },
    {
      "cell_type": "code",
      "execution_count": null,
      "metadata": {
        "id": "YFVpJJ-kOgJK"
      },
      "outputs": [],
      "source": [
        "# Wrapping up with the U-S-E\n",
        "\n",
        "X_train = embed(X_train)\n",
        "X_test = embed(X_test)\n",
        "X_train = X_train.numpy()\n",
        "X_test = X_test.numpy()"
      ]
    },
    {
      "cell_type": "code",
      "execution_count": null,
      "metadata": {
        "id": "uDz7WwWLOzwh"
      },
      "outputs": [],
      "source": [
        "# PREVIEW OUTPUT ::\n",
        "\n",
        "# print(X_train[:10])\n",
        "# print(y_train[:10])\n",
        "# print(X_test[:10])\n",
        "# print(y_test[:10])\n",
        "# print(X_train.shape, X_test.shape, y_test.shape, y_train.shape)"
      ]
    },
    {
      "cell_type": "markdown",
      "metadata": {
        "id": "rk1zrMu1Q_QW"
      },
      "source": [
        "# **Building the model**"
      ]
    },
    {
      "cell_type": "code",
      "execution_count": null,
      "metadata": {
        "colab": {
          "base_uri": "https://localhost:8080/"
        },
        "id": "NE2cmc3eQ9qk",
        "outputId": "f4eb968e-0843-4a1a-c8e3-a81587620d7f"
      },
      "outputs": [
        {
          "name": "stdout",
          "output_type": "stream",
          "text": [
            "Model: \"sequential_1\"\n",
            "_________________________________________________________________\n",
            "Layer (type)                 Output Shape              Param #   \n",
            "=================================================================\n",
            "dense (Dense)                (None, 512)               262656    \n",
            "_________________________________________________________________\n",
            "dense_1 (Dense)              (None, 2694)              1382022   \n",
            "=================================================================\n",
            "Total params: 1,644,678\n",
            "Trainable params: 1,644,678\n",
            "Non-trainable params: 0\n",
            "_________________________________________________________________\n"
          ]
        }
      ],
      "source": [
        "model = Sequential()\n",
        "# model.add(Embedding(input_dim=len(vocabulary), output_dim=100))\n",
        "model = Sequential()\n",
        "# model.add(LSTM(units=100, input_shape=[512]))\n",
        "model.add(Dense(512, input_shape=[512], activation = 'relu'))\n",
        "model.add(Dense(units=len(vocabulary), activation = 'softmax'))\n",
        "model.compile(loss='categorical_crossentropy', optimizer='adam', metrics=['acc'])\n",
        "model.summary()"
      ]
    },
    {
      "cell_type": "code",
      "execution_count": null,
      "metadata": {
        "colab": {
          "base_uri": "https://localhost:8080/"
        },
        "id": "12j8kuJWUAKJ",
        "outputId": "315baab4-59dc-438f-b6fb-356ccd458339"
      },
      "outputs": [
        {
          "name": "stdout",
          "output_type": "stream",
          "text": [
            "Epoch 1/20\n",
            "11/11 [==============================] - 1s 51ms/step - loss: 7.7687 - acc: 0.0569 - val_loss: 6.9287 - val_acc: 0.0511\n",
            "Epoch 2/20\n",
            "11/11 [==============================] - 0s 19ms/step - loss: 6.3200 - acc: 0.0485 - val_loss: 4.4571 - val_acc: 0.0572\n",
            "Epoch 3/20\n",
            "11/11 [==============================] - 0s 17ms/step - loss: 4.2940 - acc: 0.0604 - val_loss: 4.0937 - val_acc: 0.0900\n",
            "Epoch 4/20\n",
            "11/11 [==============================] - 0s 16ms/step - loss: 4.0394 - acc: 0.1304 - val_loss: 3.8953 - val_acc: 0.2056\n",
            "Epoch 5/20\n",
            "11/11 [==============================] - 0s 15ms/step - loss: 3.8269 - acc: 0.1694 - val_loss: 3.6589 - val_acc: 0.2600\n",
            "Epoch 6/20\n",
            "11/11 [==============================] - 0s 15ms/step - loss: 3.5807 - acc: 0.2989 - val_loss: 3.3492 - val_acc: 0.3550\n",
            "Epoch 7/20\n",
            "11/11 [==============================] - 0s 15ms/step - loss: 3.2411 - acc: 0.3852 - val_loss: 2.9764 - val_acc: 0.5217\n",
            "Epoch 8/20\n",
            "11/11 [==============================] - 0s 15ms/step - loss: 2.8520 - acc: 0.6499 - val_loss: 2.5491 - val_acc: 0.8022\n",
            "Epoch 9/20\n",
            "11/11 [==============================] - 0s 14ms/step - loss: 2.4114 - acc: 0.8419 - val_loss: 2.1011 - val_acc: 0.8767\n",
            "Epoch 10/20\n",
            "11/11 [==============================] - 0s 15ms/step - loss: 1.9488 - acc: 0.9303 - val_loss: 1.6541 - val_acc: 0.9506\n",
            "Epoch 11/20\n",
            "11/11 [==============================] - 0s 14ms/step - loss: 1.5076 - acc: 0.9761 - val_loss: 1.2461 - val_acc: 0.9889\n",
            "Epoch 12/20\n",
            "11/11 [==============================] - 0s 14ms/step - loss: 1.1225 - acc: 0.9861 - val_loss: 0.9127 - val_acc: 1.0000\n",
            "Epoch 13/20\n",
            "11/11 [==============================] - 0s 16ms/step - loss: 0.8083 - acc: 0.9930 - val_loss: 0.6505 - val_acc: 0.9889\n",
            "Epoch 14/20\n",
            "11/11 [==============================] - 0s 15ms/step - loss: 0.5718 - acc: 0.9949 - val_loss: 0.4673 - val_acc: 1.0000\n",
            "Epoch 15/20\n",
            "11/11 [==============================] - 0s 15ms/step - loss: 0.4098 - acc: 1.0000 - val_loss: 0.3413 - val_acc: 1.0000\n",
            "Epoch 16/20\n",
            "11/11 [==============================] - 0s 15ms/step - loss: 0.3049 - acc: 1.0000 - val_loss: 0.2576 - val_acc: 1.0000\n",
            "Epoch 17/20\n",
            "11/11 [==============================] - 0s 15ms/step - loss: 0.2295 - acc: 1.0000 - val_loss: 0.2001 - val_acc: 1.0000\n",
            "Epoch 18/20\n",
            "11/11 [==============================] - 0s 15ms/step - loss: 0.1799 - acc: 1.0000 - val_loss: 0.1602 - val_acc: 1.0000\n",
            "Epoch 19/20\n",
            "11/11 [==============================] - 0s 15ms/step - loss: 0.1455 - acc: 1.0000 - val_loss: 0.1314 - val_acc: 1.0000\n",
            "Epoch 20/20\n",
            "11/11 [==============================] - 0s 13ms/step - loss: 0.1201 - acc: 1.0000 - val_loss: 0.1102 - val_acc: 1.0000\n"
          ]
        },
        {
          "data": {
            "text/plain": [
              "<tensorflow.python.keras.callbacks.History at 0x7f23ad763518>"
            ]
          },
          "execution_count": 14,
          "metadata": {
            "tags": []
          },
          "output_type": "execute_result"
        }
      ],
      "source": [
        "# Training the model. \n",
        "\n",
        "model.fit(X_train, y_train, batch_size=512, shuffle=True, epochs=20, validation_data=(X_test, y_test), callbacks=[LambdaCallback()])"
      ]
    },
    {
      "cell_type": "markdown",
      "metadata": {
        "id": "8Vzq-1bH0oOv"
      },
      "source": [
        "#**Unto the tests!**"
      ]
    },
    {
      "cell_type": "code",
      "execution_count": null,
      "metadata": {
        "id": "w4Jy3Hbi0nlK"
      },
      "outputs": [],
      "source": [
        "\n",
        "# Create function to predict and show detailed output\n",
        "\n",
        "def next_word(collection=[], extent=1):\n",
        "\n",
        "  for item in collection:\n",
        "    text = item\n",
        "    for i in range(extent):\n",
        "      prediction = model.predict(x=embed([item]).numpy())\n",
        "      idx = np.argmax(prediction[-1])\n",
        "      item += ' ' + vocabulary[idx]\n",
        "      \n",
        "      print(text + ' --> ' + item + '\\nNEXT WORD: ' + item.split(' ')[-1] + '\\n')"
      ]
    },
    {
      "cell_type": "code",
      "execution_count": null,
      "metadata": {
        "colab": {
          "base_uri": "https://localhost:8080/"
        },
        "id": "W6_rGHmFYMKD",
        "outputId": "04a875dd-ca35-4cec-a8ad-d0038be14f00"
      },
      "outputs": [
        {
          "name": "stdout",
          "output_type": "stream",
          "text": [
            "and some other essential --> and some other essential networks\n",
            "NEXT WORD: networks\n",
            "\n"
          ]
        }
      ],
      "source": [
        "# Tests - please feel free to explore\n",
        "\n",
        "single_text = ['and some other essential']\n",
        "\n",
        "next_word(single_text)"
      ]
    },
    {
      "cell_type": "code",
      "execution_count": null,
      "metadata": {
        "colab": {
          "base_uri": "https://localhost:8080/"
        },
        "id": "4tZjEA0MX5pr",
        "outputId": "bd39eb2c-1dea-45cc-9c2c-5fa9ba81c3ec"
      },
      "outputs": [
        {
          "name": "stdout",
          "output_type": "stream",
          "text": [
            "deep convolutional --> deep convolutional networks\n",
            "NEXT WORD: networks\n",
            "\n",
            "simple and effective --> simple and effective acceleration\n",
            "NEXT WORD: acceleration\n",
            "\n",
            "a nonconvex --> a nonconvex dataset\n",
            "NEXT WORD: dataset\n",
            "\n",
            "a --> a improvement\n",
            "NEXT WORD: improvement\n",
            "\n"
          ]
        }
      ],
      "source": [
        "# Testing on a collection of words\n",
        "\n",
        "text_collection = ['deep convolutional', 'simple and effective', 'a nonconvex', 'a']\n",
        "\n",
        "next_word(text_collection)"
      ]
    },
    {
      "cell_type": "markdown",
      "metadata": {
        "id": "vvhuISuHZfzZ"
      },
      "source": [
        "## **For the record**\n",
        "\n",
        "The Dataset is based on a Tensorflow tutorial from Stanford, so all predicted words will be based on Deep learning and Machine learning _common terms_.\n",
        "\n"
      ]
    },
    {
      "cell_type": "code",
      "execution_count": null,
      "metadata": {
        "id": "Z6SxZt78bhEv"
      },
      "outputs": [],
      "source": [
        "\n"
      ]
    },
    {
      "cell_type": "code",
      "execution_count": null,
      "metadata": {
        "colab": {
          "base_uri": "https://localhost:8080/"
        },
        "id": "dJTRmQh6aHSV",
        "outputId": "167ba863-38cc-470d-f560-17e53745cc62"
      },
      "outputs": [
        {
          "name": "stdout",
          "output_type": "stream",
          "text": [
            "INFO:tensorflow:Assets written to: ./NWP-USE/assets\n"
          ]
        },
        {
          "name": "stderr",
          "output_type": "stream",
          "text": [
            "INFO:tensorflow:Assets written to: ./NWP-USE/assets\n"
          ]
        }
      ],
      "source": [
        "# Storing data\n",
        "\n",
        "vocabulary = numpy.array(vocabulary)\n",
        "numpy.save('./vocabulary.npy', vocabulary)\n",
        "model.save('./NWP-USE')"
      ]
    },
    {
      "cell_type": "code",
      "execution_count": null,
      "metadata": {
        "id": "gxCntzMTaXQ3"
      },
      "outputs": [],
      "source": [
        "##                                                                  END OF NOTEBOOK"
      ]
    }
  ],
  "metadata": {
    "accelerator": "GPU",
    "colab": {
      "collapsed_sections": [],
      "name": "Next-Word Prediction using Universal Sentence Encoder.ipynb",
      "provenance": []
    },
    "kernelspec": {
      "display_name": "Python 3",
      "name": "python3"
    },
    "language_info": {
      "codemirror_mode": {
        "name": "ipython",
        "version": 3
      },
      "file_extension": ".py",
      "mimetype": "text/x-python",
      "name": "python",
      "nbconvert_exporter": "python",
      "pygments_lexer": "ipython3",
      "version": "3.11.4"
    }
  },
  "nbformat": 4,
  "nbformat_minor": 0
}
